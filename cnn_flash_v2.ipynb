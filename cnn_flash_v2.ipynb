{
 "cells": [
  {
   "cell_type": "markdown",
   "id": "74e6e597",
   "metadata": {},
   "source": [
    "# Bats classification with PyTorch Ligthning"
   ]
  },
  {
   "cell_type": "markdown",
   "id": "c6a11bad",
   "metadata": {},
   "source": [
    "# 1. Setup\n",
    "## 1.1. Import libraries"
   ]
  },
  {
   "cell_type": "code",
   "execution_count": 3,
   "id": "22ceafc8",
   "metadata": {},
   "outputs": [
    {
     "name": "stderr",
     "output_type": "stream",
     "text": [
      "/home/wustl/VideoClassifier/.menv/lib/python3.8/site-packages/tqdm/auto.py:22: TqdmWarning: IProgress not found. Please update jupyter and ipywidgets. See https://ipywidgets.readthedocs.io/en/stable/user_install.html\n",
      "  from .autonotebook import tqdm as notebook_tqdm\n"
     ]
    }
   ],
   "source": [
    "#read CSV\n",
    "import pandas as pd\n",
    "\n",
    "#move data\n",
    "import os\n",
    "import shutil\n",
    "\n",
    "#reconcile labels - images\n",
    "import glob\n",
    "\n",
    "#visualisation\n",
    "import matplotlib.pyplot as plt\n",
    "%matplotlib inline\n",
    "\n",
    "#data splitter\n",
    "from sklearn.model_selection import train_test_split\n",
    "\n",
    "#Downsampling\n",
    "from sklearn.utils import resample\n",
    "\n",
    "#Upsampling\n",
    "import augly.image as imaugs\n",
    "import torchvision.transforms as transforms\n",
    "from PIL import Image\n",
    "import random\n",
    "\n",
    "#Logger\n",
    "from pytorch_lightning.loggers import TensorBoardLogger\n",
    "from pytorch_lightning.loggers import CSVLogger\n",
    "\n",
    "#model\n",
    "import flash\n",
    "from flash import Trainer\n",
    "from flash.audio import AudioClassificationData\n",
    "from flash.image import ImageClassifier\n",
    "from pytorch_lightning.callbacks.early_stopping import EarlyStopping\n",
    "from pytorch_lightning.callbacks import LearningRateMonitor\n",
    "from pytorch_lightning.callbacks import ModelCheckpoint\n",
    "\n",
    "#confusion Matrix\n",
    "import numpy as np\n",
    "import seaborn as sns\n",
    "from sklearn.metrics import confusion_matrix"
   ]
  },
  {
   "cell_type": "markdown",
   "id": "ebc78aae",
   "metadata": {},
   "source": [
    "## 1.1. Set training variables\n",
    "- define variables, to optimize the model"
   ]
  },
  {
   "cell_type": "code",
   "execution_count": 4,
   "id": "7f92c49e",
   "metadata": {},
   "outputs": [],
   "source": [
    "class tparams:\n",
    "    epochs=20\n",
    "    batch_size=50\n",
    "    backbone=\"efficientnet_l2\"   \n",
    "    strategy=\"freeze\"\n",
    "    resample_augmentation=\"stripes_opac\" #no impact. Just for output to hyperparams\n",
    "    test_run_name=f\"ds_y:ups_{resample_augmentation}+25%:freeze:epo{epochs}:{backbone}\" #for logger\n",
    "\n",
    "#\"efficientnet_l2\" bat_resnext26ts 'vgg19' 'resnet152 34 50' 'densenet201' inception_v4 xception 'efficientnet_b3'\n",
    "\n",
    "#strategy=(\"unfreeze_milestones\", ((3, 8), 2)) \n",
    "#backbone starts frozen,at epoch 3 the last 2 layers unfreeze, at epoch 8 the full backbone unfreezes\n",
    "\n",
    "#strategy=(\"freeze_unfreeze\", 7) -> unfreeze after epoche 7\n",
    "\n",
    "#max batch size 4.736"
   ]
  },
  {
   "cell_type": "markdown",
   "id": "2c45ad47",
   "metadata": {},
   "source": [
    "## 1.2. Define paths for input data"
   ]
  },
  {
   "cell_type": "code",
   "execution_count": 5,
   "id": "46269260",
   "metadata": {},
   "outputs": [],
   "source": [
    "#paths images\n",
    "src_1 = \"/home/wustl/bats_classification/Bat_Orientation_Calls\"\n",
    "src_2 = \"/home/wustl/bats_classification/LMU_20180326_png\"\n",
    "src_3 = \"/home/wustl/bats_classification/Bat_Orienatation_Calls_3\"\n",
    "\n",
    "src = [src_1, src_2, src_3] #list image sources\n",
    "\n",
    "#paths labels\n",
    "src_labels_1 = \"./Bat_Orientation_Calls/Auswertung_20220524.csv\"\n",
    "src_labels_2 = \"./Bat_Orientation_Calls_2/LMU_20180326_class.csv\"\n",
    "src_labels_3 = \"./Bat_Orienatation_Calls_3/LMU_20180505_classified.csv\""
   ]
  },
  {
   "cell_type": "markdown",
   "id": "963e01e6",
   "metadata": {},
   "source": [
    "# 2. Global Functions\n",
    "## 2.1. Global functions for plot"
   ]
  },
  {
   "cell_type": "code",
   "execution_count": 6,
   "id": "de2e1e2e",
   "metadata": {},
   "outputs": [],
   "source": [
    "def plot_col(df, col):\n",
    "    \"\"\"Plots the col of the input df\"\"\"\n",
    "    ax = df[col].value_counts().plot(kind='bar',\n",
    "                                        figsize=(10,4),\n",
    "                                        title=\"Distribution of images per class\")\n",
    "    ax.set_xlabel(\"Class\")\n",
    "    ax.set_ylabel(\"Number of records\")\n",
    "    plt.show()\n",
    "    \n",
    "def plot_model_acc(train_acc, valid_acc, save_dir):\n",
    "    \"\"\"Plots train and validation accuracy per epoch\"\"\"\n",
    "    fig = plt.figure(figsize=(12, 8))\n",
    "    plt.grid(True)\n",
    "    plt.plot(train_acc, color=\"r\", marker=\"o\", label='train/acc')\n",
    "    plt.plot(valid_acc, color=\"b\", marker=\"x\", label='valid/acc')\n",
    "    plt.ylabel('Accuracy', fontsize=18)\n",
    "    plt.xlabel('Epoch', fontsize=18)\n",
    "    plt.legend(loc='lower right', fontsize=16)\n",
    "    plt.title('Training and Validation Accuracy', fontsize=20)\n",
    "    plt.savefig(f'{save_dir}/acc.png')\n",
    "    plt.show()\n",
    "\n",
    "def plot_model_loss(train_loss, valid_loss, save_dir):\n",
    "    \"\"\"Plots train and validation loss per epoch\"\"\"\n",
    "    fig = plt.figure(figsize=(12, 8))\n",
    "    plt.grid(True)\n",
    "    plt.plot(train_loss, color=\"r\", marker=\"o\", label='train/loss')\n",
    "    plt.plot(valid_loss, color=\"b\", marker=\"x\", label='valid/loss')\n",
    "    plt.ylabel('Loss', fontsize=18)\n",
    "    plt.xlabel('Epoch', fontsize=18)\n",
    "    plt.legend(loc='upper right', fontsize=16)\n",
    "    plt.title('Training and Validation Loss', fontsize=20)\n",
    "    plt.savefig(f'{save_dir}/loss.png')\n",
    "    plt.show()\n",
    "    \n",
    "def plot_confusion_matrix(cm, classes, save_dir):\n",
    "    \"\"\"Defines confusion matrix in absolute and relative numbers\"\"\"\n",
    "    fig, (ax1, ax2) = plt.subplots(nrows=1, ncols=2, figsize=(20,10), sharex=True, sharey=True)\n",
    "    ax1.title.set_text('Absolut')\n",
    "    ax2.title.set_text('Relative')\n",
    "    fig.text(0.5, 0, 'Predicated Label', ha='center', fontsize=14)\n",
    "    fig.text(0, 0.5, 'True label', va='center', rotation='vertical', fontsize=14)\n",
    "\n",
    "    cmn = cm.astype('float') / cm.sum(axis=1)[:, np.newaxis]\n",
    "    \n",
    "    sns.heatmap(cm, annot=True, xticklabels=classes, yticklabels=classes, ax=ax1, cmap=\"YlGnBu\")\n",
    "    sns.heatmap(cmn, annot=True, fmt='.2f', xticklabels=classes, yticklabels=classes, ax=ax2, cmap=\"YlGnBu\")\n",
    "\n",
    "    plt.tight_layout()\n",
    "    plt.savefig(f'{save_dir}/confusion_matrix.png')\n",
    "    plt.show()"
   ]
  },
  {
   "cell_type": "markdown",
   "id": "dbdcfefa",
   "metadata": {},
   "source": [
    "## 2.2. Global functions for resampling"
   ]
  },
  {
   "cell_type": "code",
   "execution_count": 7,
   "id": "10ef9577",
   "metadata": {},
   "outputs": [],
   "source": [
    "def downsample_data(train, column:str=None):\n",
    "        \"\"\"Downsamples the largest group to match the second largest group\"\"\"\n",
    "        values_of_col = dict(train[column].value_counts())\n",
    "        key_max = max(values_of_col, key=values_of_col.get)\n",
    "        max_value = max(values_of_col.values())\n",
    "        value_max2 = 0\n",
    "        for v in values_of_col.values():\n",
    "             if(v>value_max2 and v<max_value):\n",
    "                    value_max2 = v\n",
    "\n",
    "        df_max = train[train[column]== key_max]\n",
    "        df_rest = train[train[column]!= key_max]\n",
    "\n",
    "        df_max_downsample = resample(df_max,\n",
    "                                        replace = False, #sample without replacement\n",
    "                                        n_samples = value_max2, #match second largest group\n",
    "                                        random_state = 27) #reproducible results\n",
    "\n",
    "        #combine minority and downsampled majority and set to train df\n",
    "        train = pd.concat([df_max_downsample, df_rest])\n",
    "        return train\n",
    "\n",
    "def upsample_data(df, column:str=None, outputpath:str=None):\n",
    "    \"\"\"Takes a dataframe and upsamples the data based on the col.\n",
    "    The upsample techniques are choosen at randome.\n",
    "    \"\"\"\n",
    "    values_of_col = dict(df[column].value_counts())\n",
    "    \n",
    "    #key_max = max(values_of_col, key=values_of_col.get)\n",
    "    data = list(values_of_col.values())\n",
    "    data.sort()\n",
    "    key_max = data[-2]\n",
    "    new_data_store = []\n",
    "    for key, value in values_of_col.items():\n",
    "        counter = 0\n",
    "\n",
    "        while value <= key_max-values_of_col[key]: #*1.25\n",
    "            counter +=1 \n",
    "            mem_df = df.loc[df[column]==key]\n",
    "            for path in mem_df[\"new_filename\"].to_list():\n",
    "                new_data_store.append([key,augment_data(path,outputpath,counter)])\n",
    "                value+=1\n",
    "                if value == key_max-values_of_col[key]: #*1.25\n",
    "                    break   \n",
    "    return new_data_store\n",
    "\n",
    "def augment_data(input_path, out_path, run_count):\n",
    "    \"\"\"The input data will be augmented and transformed to the output data\"\"\"\n",
    "    \"\"\"AugLy paper: https://artofrobust.github.io/long_paper/12.pdf\"\"\"\n",
    "    input_img = Image.open(input_path)\n",
    "    file_name = input_path.split(\"/\")[-1]\n",
    "    aug = transforms.Compose(\n",
    "        [   #imaugs.RandomNoise(mean=0.9, var=0.9),\n",
    "            #imaugs.Opacity(level=random.uniform(0.8,0.95)), #ebenfalls testen\n",
    "            #imaugs.Pixelization(factor=random.uniform(0.05,0.2))\n",
    "            imaugs.OverlayStripes(\n",
    "                #p=1,\n",
    "                line_angle=-random.choice([0,90]),\n",
    "                line_density=random.uniform(0.2,0.8), #davor (0.1,0.4)\n",
    "                line_width=random.uniform(0.03,0.1), #davor (0.005,0.3)\n",
    "                line_type=\"dashed\"\n",
    "            ),\n",
    "        ]\n",
    "    )\n",
    "    aug_img = aug(input_img)\n",
    "    if display_image:\n",
    "        display(input_img)\n",
    "        display(aug_img)\n",
    "        \n",
    "    aug_img.save(f\"{out_path}/aug_{run_count}_{file_name}\", format='PNG') #save aug_img\n",
    "    return f\"{out_path}/aug_{run_count}_{file_name}\"\n",
    "\n"
   ]
  },
  {
   "cell_type": "markdown",
   "id": "f17a584a",
   "metadata": {},
   "source": [
    "# 3. Import data\n",
    "## 3.1. Create new working directory\n",
    "- create a new folder \"./bats\" as working enviroment\n",
    "- copy all spectograms to new folder"
   ]
  },
  {
   "cell_type": "code",
   "execution_count": 8,
   "id": "3fd66f91",
   "metadata": {},
   "outputs": [],
   "source": [
    "#paths working directory\n",
    "destination = \"./bats\"\n",
    "glob_paths = \"./bats/*.png\"\n",
    "\n",
    "#delete old directory and create new\n",
    "if os.path.exists(\"bats\"): #\"bats\" durch destination ersetzt\n",
    "    shutil.rmtree(destination)\n",
    "    os.makedirs(\"bats\")\n",
    "else:\n",
    "    os.makedirs(\"bats\")\n",
    "\n",
    "#move spectograms from src-list to new directory\n",
    "for src in src:\n",
    "    src_files = os.listdir(src)\n",
    "    for file_name in src_files:\n",
    "        full_file_name = os.path.join(src, file_name)\n",
    "        if (os.path.isfile(full_file_name)):\n",
    "            shutil.copy(full_file_name, destination)"
   ]
  },
  {
   "cell_type": "markdown",
   "id": "d64f3a24",
   "metadata": {},
   "source": [
    "## 3.2. Create list if ID's from images\n",
    "- creat list of ID's from the images, for reconsiliation with the labels in the dataframe"
   ]
  },
  {
   "cell_type": "code",
   "execution_count": 9,
   "id": "8b586d1d",
   "metadata": {},
   "outputs": [],
   "source": [
    "image_paths = glob.glob(glob_paths)\n",
    "cleaned = [image.split('/')[-1].split(\".png\")[0] for image in image_paths]"
   ]
  },
  {
   "cell_type": "markdown",
   "id": "ec123317",
   "metadata": {},
   "source": [
    "# 4. Create and define dataframes\n",
    "## 4.1. Create dataframe from all data and show classes\n",
    "- create dataframe of all labels with paths to image\n",
    "- check if images for all label exist and delete, if not"
   ]
  },
  {
   "cell_type": "code",
   "execution_count": 10,
   "id": "bf71ab02",
   "metadata": {},
   "outputs": [
    {
     "name": "stdout",
     "output_type": "stream",
     "text": [
      "DataFrame contains 4309 records\n"
     ]
    },
    {
     "data": {
      "image/png": "[encoded data removed]",
      "text/plain": [
       "<Figure size 720x288 with 1 Axes>"
      ]
     },
     "metadata": {
      "needs_background": "light"
     },
     "output_type": "display_data"
    },
    {
     "name": "stdout",
     "output_type": "stream",
     "text": [
      "Bartfledermaus                 2275\n",
      "Fransenfledermaus               892\n",
      "Langohrfledermaus               292\n",
      "Bechsteinfledermaus             274\n",
      "Fledermaus_nicht_bestimmbar     183\n",
      "Schwarzbild                     182\n",
      "Mausohr                         124\n",
      "Wasserfledermaus                 70\n",
      "Hufeisennase                     10\n",
      "Große_Hufeisennase                3\n",
      "Wimperfledermaus                  3\n",
      "&Mausohr_                         1\n",
      "Name: new_species, dtype: int64\n"
     ]
    }
   ],
   "source": [
    "#create a df from each csv file\n",
    "df_labels_1 = pd.read_csv(src_labels_1, header=0, delimiter=\";\")\n",
    "df_labels_2 = pd.read_csv(src_labels_2, header=0, delimiter=\";\")\n",
    "df_labels_3 = pd.read_csv(src_labels_3, header=0, delimiter=\";\")\n",
    "\n",
    "df = pd.concat([df_labels_1, df_labels_2, df_labels_3], ignore_index = True) #connect dataframes\n",
    "\n",
    "#add image-paths to dataframe and remove blanks within the labels\n",
    "df[\"new_filename\"] = destination + \"/\" + df['ID'].astype(str)+ \".png\"\n",
    "df[\"new_species\"] = df[\"Species\"].replace(to_replace=' ', value='_', regex=True)\n",
    "\n",
    "#reconcile labels and images, to make sure a image to every label exists (else, delete label)\n",
    "df = df[df['ID'].astype(str).isin(cleaned)]\n",
    "\n",
    "#print dataframe to identifie inappropriate classes\n",
    "print(f'DataFrame contains {len(df)} records')\n",
    "plot_col(df, \"new_species\")\n",
    "print(df[\"new_species\"].value_counts())\n"
   ]
  },
  {
   "cell_type": "markdown",
   "id": "38d9f196",
   "metadata": {},
   "source": [
    "## 4.2. Remove classes, if not applicable or inappropriate\n",
    "- remove \"Schwarzbilder\", because we don't know how they are defined\n",
    "- remove \"großen Hufeisennase\", \"Hufeisennase\" und \"Wimperfledermaus\", because classes are too small\n",
    "- remove \"nicht bestimmbaren Fledermäuse\", because of missing labels\n",
    "- remove \"&Mausohr_\", because of typo"
   ]
  },
  {
   "cell_type": "code",
   "execution_count": 11,
   "id": "2b21421e",
   "metadata": {},
   "outputs": [
    {
     "name": "stdout",
     "output_type": "stream",
     "text": [
      "Cleaned DataFrame contains 3927 records\n",
      "Cleaned DataFrame contains 6 classes\n"
     ]
    },
    {
     "data": {
      "image/png": "[encoded data removed]",
      "text/plain": [
       "<Figure size 720x288 with 1 Axes>"
      ]
     },
     "metadata": {
      "needs_background": "light"
     },
     "output_type": "display_data"
    },
    {
     "name": "stdout",
     "output_type": "stream",
     "text": [
      "Bartfledermaus         2275\n",
      "Fransenfledermaus       892\n",
      "Langohrfledermaus       292\n",
      "Bechsteinfledermaus     274\n",
      "Mausohr                 124\n",
      "Wasserfledermaus         70\n",
      "Name: new_species, dtype: int64\n"
     ]
    }
   ],
   "source": [
    "#remove data without label and very small groups (judgemental)\n",
    "df = df.loc[~(df['new_species'] == \"Schwarzbild\"),:]\n",
    "df = df.loc[~(df['new_species'] == \"Fledermaus_nicht_bestimmbar\"),:]\n",
    "df = df.loc[~(df['new_species'] == \"Große_Hufeisennase\"),:]\n",
    "df = df.loc[~(df['new_species'] == \"Hufeisennase\"),:]\n",
    "df = df.loc[~(df['new_species'] == \"Wimperfledermaus\"),:]\n",
    "df = df.loc[~(df['new_species'] == \"&Mausohr_\"),:]\n",
    "\n",
    "number_classes = df[\"new_species\"].nunique() #Count classes, for use in module\n",
    "\n",
    "#check\n",
    "print(f'Cleaned DataFrame contains {len(df)} records')\n",
    "print(f'Cleaned DataFrame contains {number_classes} classes')\n",
    "plot_col(df, \"new_species\")\n",
    "print(df[\"new_species\"].value_counts())\n",
    "\n",
    "#df.to_csv(\"cleaned_df.csv\") #save copy of cleaned df"
   ]
  },
  {
   "cell_type": "markdown",
   "id": "1f2dba93",
   "metadata": {},
   "source": [
    "## 4.3. Splitt dataframe into train-, validation and test-data"
   ]
  },
  {
   "cell_type": "code",
   "execution_count": 12,
   "id": "5a861c5b",
   "metadata": {
    "scrolled": true
   },
   "outputs": [],
   "source": [
    "#train test split to create train, validation and test df\n",
    "train, val_test_df = train_test_split(\n",
    "    df, stratify=df[\"new_species\"], test_size=0.2, shuffle=True)\n",
    "validation, test = train_test_split(\n",
    "    val_test_df, stratify=val_test_df[\"new_species\"], test_size=0.5, shuffle=True)\n",
    "\n",
    "#set to true to show train, validation and test df\n",
    "print_dfs = False \n",
    "if print_dfs:\n",
    "    plot_col(train, \"new_species\")\n",
    "    plot_col(validation, \"new_species\")\n",
    "    plot_col(test, \"new_species\")\n",
    "    print(train[\"new_species\"].value_counts())\n",
    "    print(validation[\"new_species\"].value_counts())\n",
    "    print(test[\"new_species\"].value_counts())"
   ]
  },
  {
   "cell_type": "markdown",
   "id": "8662f87f",
   "metadata": {},
   "source": [
    "# 5. Resampling\n",
    "- Reduce / eliminate the data inbalance by downsampling and upsampling"
   ]
  },
  {
   "cell_type": "markdown",
   "id": "d196deb9",
   "metadata": {},
   "source": [
    "## 5.1. Downsampling\n",
    "- remove data from the largest group (\"Bartfledermaus\"), to match second largest group\n",
    "- by removing data from the largest group, we reduce the inbalance of the data and therefore have to create less augmented images in step 4.2. Upsampling\n",
    "- by downsampling, we reduce the final training-dataframe. \n",
    "- although some data will not be used, we will also reduce the training run-time."
   ]
  },
  {
   "cell_type": "code",
   "execution_count": 14,
   "id": "e1b1bd75",
   "metadata": {},
   "outputs": [
    {
     "data": {
      "image/png": "[encoded data removed]",
      "text/plain": [
       "<Figure size 720x288 with 1 Axes>"
      ]
     },
     "metadata": {
      "needs_background": "light"
     },
     "output_type": "display_data"
    },
    {
     "name": "stdout",
     "output_type": "stream",
     "text": [
      "Bartfledermaus         713\n",
      "Fransenfledermaus      713\n",
      "Langohrfledermaus      234\n",
      "Bechsteinfledermaus    219\n",
      "Mausohr                 99\n",
      "Wasserfledermaus        56\n",
      "Name: new_species, dtype: int64\n"
     ]
    }
   ],
   "source": [
    "train_downsampled = downsample_data(train, \"new_species\") #run downsampling function\n",
    "train = train_downsampled #set new dataframe to train df\n",
    "\n",
    "#checking counts\n",
    "plot_col(train, \"new_species\")\n",
    "print(train[\"new_species\"].value_counts())"
   ]
  },
  {
   "cell_type": "markdown",
   "id": "ccaea628",
   "metadata": {},
   "source": [
    "## 5.2. Upsampling\n",
    "- creating new augmented data, to reduce / eliminate data-inbalance using AugLy\n",
    "\n",
    "https://github.com/facebookresearch/AugLy  \n",
    "    \"blur\": imaugs.Blur(radius=3),  \n",
    "    \"random_noise\": imaugs.RandomNoise(mean=0.1, var=0.2),  \n",
    "    \"sharpen\": imaugs.Sharpen(factor=10),  \n",
    "    \"encoding_quality\": imaugs.EncodingQuality(quality=15),  \n",
    "    \"change_aspect_ratio\": imaugs.ChangeAspectRatio(ratio=3.0),  \n",
    "    \"opacity\": imaugs.Opacity(level=0.5),  \n",
    "    \"pixelization\": imaugs.Pixelization(ratio=0.3),  \n",
    "    \"scale\": imaugs.Scale(factor=0.5),  \n",
    "    \"color_jitter\": imaugs.ColorJitter(brightness_factor=1.6,contrast_factor=1.6,saturation_factor=1.6,),  \n",
    "    \"hflip\": imaugs.HFlip(),  \n",
    "    \"perspective_transform\": imaugs.PerspectiveTransform(),  \n",
    "    \"rotate\": imaugs.Rotate(degrees=50),  \n",
    "    \"vflip\": imaugs.VFlip(),    \n",
    "    \"overlay_text\": imaugs.OverlayText(font_size=0.5, x_pos=0.2, y_pos=0.1),  \n",
    "    \"overlay_stripes\": imaugs.OverlayStripes(line_angle=-30,\n",
    "        line_density=0.9,\n",
    "        line_width=0.4,\n",
    "        line_type=\"dashed\""
   ]
  },
  {
   "cell_type": "code",
   "execution_count": 13,
   "id": "91794a70",
   "metadata": {},
   "outputs": [
    {
     "name": "stdout",
     "output_type": "stream",
     "text": [
      "Bartfledermaus         1820\n",
      "Wasserfledermaus        713\n",
      "Mausohr                 713\n",
      "Bechsteinfledermaus     713\n",
      "Fransenfledermaus       713\n",
      "Langohrfledermaus       713\n",
      "Name: new_species, dtype: int64\n"
     ]
    },
    {
     "data": {
      "image/png": "[encoded data removed]",
      "text/plain": [
       "<Figure size 720x288 with 1 Axes>"
      ]
     },
     "metadata": {
      "needs_background": "light"
     },
     "output_type": "display_data"
    }
   ],
   "source": [
    "#set to true to run test and show some augmented images\n",
    "display_image = False\n",
    "\n",
    "if display_image:\n",
    "    #create dummy df for the first 5 labels, to show augmentations\n",
    "    df_dummy = train.loc[:5,:]   \n",
    "    print(df_dummy)\n",
    " \n",
    "    dummy_upsample_data = upsample_data(df_dummy,\"new_species\", destination)\n",
    "    dummy_df_augs = pd.DataFrame(dummy_upsample_data, columns=[\"new_species\",\"new_filename\"])\n",
    "    dummy_df_ups = pd.concat([dummy_df_augs, df_dummy[[\"new_species\", \"new_filename\"]]], axis=0)\n",
    "    train = dummy_df_ups #set new dataframe to train df\n",
    "else:      \n",
    "    upsample_data = upsample_data(train,\"new_species\", destination) #run upsampling function\n",
    "    df_augs = pd.DataFrame(upsample_data, columns=[\"new_species\",\"new_filename\"]) #Create index\n",
    "    df_ups = pd.concat([df_augs, train[[\"new_species\", \"new_filename\"]]], axis=0) #conect df_augs and train\n",
    "    train = df_ups.sample(frac=1).reset_index(drop=True) #set new dataframe to train df and shuffle\n",
    "\n",
    "#check\n",
    "print(train[\"new_species\"].value_counts())\n",
    "plot_col(train, \"new_species\")\n",
    "#print(train)\n",
    "\n",
    "#save copy of train dataframe\n",
    "#train.to_csv(\"training_data_upsampled.csv\")"
   ]
  },
  {
   "cell_type": "code",
   "execution_count": 137,
   "id": "f1497c42",
   "metadata": {},
   "outputs": [],
   "source": [
    "# Get class balances\n",
    "import torch\n",
    "import sklearn\n",
    "def get_class_balance():\n",
    "    \"\"\"returns the tensor of the class distribtion\"\"\"\n",
    "    lst = []\n",
    "    data = train[\"new_species\"].to_list()\n",
    "    \n",
    "    \"\"\"for  number in data:\n",
    "        lst.append(number)\"\"\"\n",
    "    values = np.array(data)\n",
    "    \n",
    "    \n",
    "    class_weights = sklearn.utils.class_weight.compute_class_weight(class_weight= \"balanced\",\n",
    "                    classes = np.unique(values),\n",
    "                    y = values)\n",
    "    return torch.tensor(class_weights,dtype=torch.float)\n",
    "loss_weights = get_class_balance()\n"
   ]
  },
  {
   "cell_type": "code",
   "execution_count": 19,
   "id": "97cadd0f",
   "metadata": {},
   "outputs": [],
   "source": [
    "### Custom Resdiual block\n",
    "from torch import nn\n",
    "class block1(nn.Module):\n",
    "    def __init__(self,num_features,num_classes ):\n",
    "        super(block1, self).__init__()\n",
    "        #self.first_layer = nn.Linear(num_features, num_features),\n",
    "        self.secound_layer = nn.ReLU(nn.Linear(num_features, num_features))\n",
    "        \n",
    "        self.final_layer = nn.ReLU(nn.Linear(num_features, num_classes))\n",
    "\n",
    "    def forward(self,x):\n",
    "        residual = x\n",
    "        print(x)\n",
    "        #print(self.first_layer)\n",
    "        #out = self.first_layer(x)\n",
    "        out = self.secound_layer(x)\n",
    "        out += residual\n",
    "        result = self.final_layer(out)\n",
    "        \n",
    "        \n",
    "        \n",
    "        return result"
   ]
  },
  {
   "cell_type": "code",
   "execution_count": 20,
   "id": "a5889d70",
   "metadata": {},
   "outputs": [
    {
     "data": {
      "text/plain": [
       "functools.partial(<function resudal_layer at 0x7ff43cdff8b0>)"
      ]
     },
     "execution_count": 20,
     "metadata": {},
     "output_type": "execute_result"
    }
   ],
   "source": [
    "# you may not use this file except in compliance with the License.\n",
    "# You may obtain a copy of the License at\n",
    "#\n",
    "#     http://www.apache.org/licenses/LICENSE-2.0\n",
    "#\n",
    "# Unless required by applicable law or agreed to in writing, software\n",
    "# distributed under the License is distributed on an \"AS IS\" BASIS,\n",
    "# WITHOUT WARRANTIES OR CONDITIONS OF ANY KIND, either express or implied.\n",
    "# See the License for the specific language governing permissions and\n",
    "# limitations under the License.\n",
    "from functools import partial\n",
    "\n",
    "from torch import nn\n",
    "\n",
    "from flash.core.registry import FlashRegistry  # noqa: F401\n",
    "\n",
    "from flash.image.classification.heads import IMAGE_CLASSIFIER_HEADS\n",
    "\n",
    "# define ImageClassifier registry\n",
    "\n",
    "\n",
    "\n",
    "def custom_head(num_features: int, num_classes: int) -> nn.Module:\n",
    "    \"\"\"Loads a linear head.\n",
    "\n",
    "    Args:\n",
    "        num_features: Number of input features.\n",
    "        num_classes: Number of output classes.\n",
    "\n",
    "    Returns:\n",
    "        nn.Module: Linear head.\n",
    "\n",
    "    \"\"\"\n",
    "    x = num_features\n",
    "    new_head = nn.Sequential(\n",
    "      nn.Linear(num_features, num_features),\n",
    "      nn.ReLU(),\n",
    "      nn.Linear(num_features, num_features),\n",
    "      nn.ReLU(),\n",
    "      nn.Linear(num_features, num_classes)\n",
    "    )\n",
    "    return new_head\n",
    "\n",
    "def resudal_layer(num_features: int, num_classes: int) -> nn.Module:\n",
    "    \"\"\"Loads a linear head.\n",
    "\n",
    "    Args:\n",
    "        num_features: Number of input features.\n",
    "        num_classes: Number of output classes.\n",
    "\n",
    "    Returns:\n",
    "        nn.Module: Linear head.\n",
    "\n",
    "    \"\"\"\n",
    "    \n",
    "    return block1(num_features,num_classes)\n",
    "IMAGE_CLASSIFIER_HEADS(\n",
    "    partial(custom_head),\n",
    "    name=\"custom_2_layer\",\n",
    ")\n",
    "IMAGE_CLASSIFIER_HEADS(\n",
    "    partial(resudal_layer),\n",
    "    name=\"residual\",\n",
    ")\n"
   ]
  },
  {
   "cell_type": "code",
   "execution_count": 1,
   "id": "ee721fc0",
   "metadata": {},
   "outputs": [
    {
     "ename": "NameError",
     "evalue": "name 'ImageClassifier' is not defined",
     "output_type": "error",
     "traceback": [
      "\u001b[0;31m---------------------------------------------------------------------------\u001b[0m",
      "\u001b[0;31mNameError\u001b[0m                                 Traceback (most recent call last)",
      "\u001b[1;32m/home/wustl/bats_classification/cnn_flash_v2.ipynb Cell 30'\u001b[0m in \u001b[0;36m<cell line: 1>\u001b[0;34m()\u001b[0m\n\u001b[0;32m----> <a href='vscode-notebook-cell://ssh-remote%2B7b22686f73744e616d65223a22556e69736572766572227d/home/wustl/bats_classification/cnn_flash_v2.ipynb#ch0000028vscode-remote?line=0'>1</a>\u001b[0m heads \u001b[39m=\u001b[39m ImageClassifier\u001b[39m.\u001b[39mavailable_heads()\n\u001b[1;32m      <a href='vscode-notebook-cell://ssh-remote%2B7b22686f73744e616d65223a22556e69736572766572227d/home/wustl/bats_classification/cnn_flash_v2.ipynb#ch0000028vscode-remote?line=1'>2</a>\u001b[0m back \u001b[39m=\u001b[39m ImageClassifier\u001b[39m.\u001b[39mavailable_backbones()\n",
      "\u001b[0;31mNameError\u001b[0m: name 'ImageClassifier' is not defined"
     ]
    }
   ],
   "source": [
    "heads = ImageClassifier.available_heads()\n",
    "back = ImageClassifier.available_backbones()\n",
    "\n"
   ]
  },
  {
   "cell_type": "markdown",
   "id": "9a2ae404",
   "metadata": {},
   "source": [
    "# 6. Define and train model\n",
    "## 6.1. Create logger\n",
    "- add TensorBoardLogger and CSV-Logger to evaluate the model\n",
    "- Acces TensorBoardLogger: http://localhost:6006/"
   ]
  },
  {
   "cell_type": "code",
   "execution_count": 24,
   "id": "577d0599",
   "metadata": {},
   "outputs": [],
   "source": [
    "#create logger\n",
    "class Tparams:\n",
    "    epochs=40\n",
    "    batch_size=15\n",
    "    backbone=\"resnet50\"   #densenet161\n",
    "    strategy= \"freeze\" #(\"unfreeze_milestones\",((10, 20), 2))\n",
    "    resample_augmentation=\"stripes_opac\" #no impact. Just for output to hyperparams\n",
    "    test_run_name=f\"ds_y:ups_{resample_augmentation}+25%:freeze:epo{epochs}:{backbone}\"\n",
    "tparams = Tparams()\n",
    "tb_logger = TensorBoardLogger(\"tb_logs\", name=tparams.test_run_name, log_graph=False,\n",
    "        default_hp_metric=True,\n",
    "        flush_secs=5)\n",
    "csv_logger = CSVLogger(\"csv_logs\", name=tparams.test_run_name)\n",
    "\n",
    "#log aditional variables in hyperparams\n",
    "csv_logger.log_hyperparams(tparams.__dict__)\n",
    "#csv_logger.log_metrics(lr_monitor.__dict__)\n",
    "\n",
    "#add callbacks\n",
    "early_stop_callback = EarlyStopping(monitor=\"val_cross_entropy\", patience=10, verbose=True, mode=\"min\")\n",
    "lr_monitor = LearningRateMonitor(logging_interval='epoch') \n",
    "ckpt_callback = ModelCheckpoint(\n",
    "    dirpath='ckpt_logs',\n",
    "    monitor= None,\n",
    "    mode= 'min',\n",
    "    every_n_train_steps= 0,\n",
    "    every_n_epochs= 1,\n",
    "    train_time_interval= None,\n",
    "    save_on_train_epoch_end= True,\n",
    "    )"
   ]
  },
  {
   "cell_type": "code",
   "execution_count": 183,
   "id": "a27d0bc3",
   "metadata": {},
   "outputs": [
    {
     "data": {
      "text/plain": [
       "functools.partial(<function custom_head at 0x7fb13d76a700>)"
      ]
     },
     "execution_count": 183,
     "metadata": {},
     "output_type": "execute_result"
    },
    {
     "name": "stdout",
     "output_type": "stream",
     "text": [
      "Epoch 7:  14%|█▍        | 54/386 [00:28<02:56,  1.88it/s, loss=0.096, v_num=1, train_accuracy_step=0.933, train_cross_entropy_step=0.101, val_accuracy=0.817, val_cross_entropy=0.777, train_accuracy_epoch=0.948, train_cross_entropy_epoch=0.145]"
     ]
    }
   ],
   "source": []
  },
  {
   "cell_type": "markdown",
   "id": "fb41be08",
   "metadata": {},
   "source": [
    "## 6.2. Run model\n",
    "PyTorch Lightning https://lightning-flash.readthedocs.io/_/downloads/en/0.2.3/pdf/\n",
    "\n",
    "        Copyright The PyTorch Lightning team.  \n",
    "\n",
    "        Licensed under the Apache License, Version 2.0 (the \"License\");  \n",
    "        you may not use this file except in compliance with the License.  \n",
    "        You may obtain a copy of the License at  \n",
    "\n",
    "             http://www.apache.org/licenses/LICENSE-2.0  \n",
    "\n",
    "        Unless required by applicable law or agreed to in writing, software  \n",
    "        distributed under the License is distributed on an \"AS IS\" BASIS,  \n",
    "        WITHOUT WARRANTIES OR CONDITIONS OF ANY KIND, either express or implied.  \n",
    "        See the License for the specific language governing permissions and  \n",
    "        limitations under the License."
   ]
  },
  {
   "cell_type": "code",
   "execution_count": 26,
   "id": "5d299380",
   "metadata": {},
   "outputs": [
    {
     "name": "stderr",
     "output_type": "stream",
     "text": [
      "GPU available: True, used: True\n",
      "TPU available: False, using: 0 TPU cores\n",
      "IPU available: False, using: 0 IPUs\n",
      "HPU available: False, using: 0 HPUs\n",
      "/home/wustl/VideoClassifier/.menv/lib/python3.8/site-packages/pytorch_lightning/callbacks/model_checkpoint.py:611: UserWarning: Checkpoint directory /home/wustl/bats_classification/ckpt_logs exists and is not empty.\n",
      "  rank_zero_warn(f\"Checkpoint directory {dirpath} exists and is not empty.\")\n",
      "LOCAL_RANK: 0 - CUDA_VISIBLE_DEVICES: [0]\n",
      "\n",
      "  | Name          | Type           | Params\n",
      "-------------------------------------------------\n",
      "0 | train_metrics | ModuleDict     | 0     \n",
      "1 | val_metrics   | ModuleDict     | 0     \n",
      "2 | test_metrics  | ModuleDict     | 0     \n",
      "3 | adapter       | DefaultAdapter | 23.5 M\n",
      "-------------------------------------------------\n",
      "65.4 K    Trainable params\n",
      "23.5 M    Non-trainable params\n",
      "23.5 M    Total params\n",
      "94.081    Total estimated model params size (MB)\n"
     ]
    },
    {
     "name": "stdout",
     "output_type": "stream",
     "text": [
      "Epoch 0:   0%|          | 0/386 [11:47<?, ?it/s]1.88it/s, loss=1.19, v_num=3, train_accuracy_step=0.467, train_cross_entropy_step=1.300] \n",
      "Epoch 0: 100%|██████████| 386/386 [00:28<00:00, 13.61it/s, loss=0.603, v_num=3, train_accuracy_step=0.867, train_cross_entropy_step=0.603, val_accuracy=0.761, val_cross_entropy=0.695]"
     ]
    },
    {
     "name": "stderr",
     "output_type": "stream",
     "text": [
      "Metric val_cross_entropy improved. New best score: 0.695\n"
     ]
    },
    {
     "name": "stdout",
     "output_type": "stream",
     "text": [
      "Epoch 1: 100%|██████████| 386/386 [00:28<00:00, 13.44it/s, loss=0.529, v_num=3, train_accuracy_step=0.800, train_cross_entropy_step=0.530, val_accuracy=0.796, val_cross_entropy=0.655, train_accuracy_epoch=0.655, train_cross_entropy_epoch=0.942]"
     ]
    },
    {
     "name": "stderr",
     "output_type": "stream",
     "text": [
      "Metric val_cross_entropy improved by 0.039 >= min_delta = 0.0. New best score: 0.655\n"
     ]
    },
    {
     "name": "stdout",
     "output_type": "stream",
     "text": [
      "Epoch 2: 100%|██████████| 386/386 [00:27<00:00, 13.89it/s, loss=0.492, v_num=3, train_accuracy_step=0.867, train_cross_entropy_step=0.278, val_accuracy=0.807, val_cross_entropy=0.588, train_accuracy_epoch=0.808, train_cross_entropy_epoch=0.556] "
     ]
    },
    {
     "name": "stderr",
     "output_type": "stream",
     "text": [
      "Metric val_cross_entropy improved by 0.068 >= min_delta = 0.0. New best score: 0.588\n"
     ]
    },
    {
     "name": "stdout",
     "output_type": "stream",
     "text": [
      "Epoch 4: 100%|██████████| 386/386 [00:29<00:00, 13.15it/s, loss=0.293, v_num=3, train_accuracy_step=0.800, train_cross_entropy_step=0.412, val_accuracy=0.850, val_cross_entropy=0.533, train_accuracy_epoch=0.869, train_cross_entropy_epoch=0.370] "
     ]
    },
    {
     "name": "stderr",
     "output_type": "stream",
     "text": [
      "Metric val_cross_entropy improved by 0.055 >= min_delta = 0.0. New best score: 0.533\n"
     ]
    },
    {
     "name": "stdout",
     "output_type": "stream",
     "text": [
      "Epoch 14: 100%|██████████| 386/386 [00:31<00:00, 12.09it/s, loss=0.144, v_num=3, train_accuracy_step=1.000, train_cross_entropy_step=0.0329, val_accuracy=0.779, val_cross_entropy=0.871, train_accuracy_epoch=0.957, train_cross_entropy_epoch=0.122]  "
     ]
    },
    {
     "name": "stderr",
     "output_type": "stream",
     "text": [
      "Monitored metric val_cross_entropy did not improve in the last 10 records. Best score: 0.533. Signaling Trainer to stop.\n"
     ]
    },
    {
     "name": "stdout",
     "output_type": "stream",
     "text": [
      "Epoch 14: 100%|██████████| 386/386 [00:32<00:00, 11.88it/s, loss=0.144, v_num=3, train_accuracy_step=1.000, train_cross_entropy_step=0.0329, val_accuracy=0.779, val_cross_entropy=0.871, train_accuracy_epoch=0.954, train_cross_entropy_epoch=0.125]\n"
     ]
    },
    {
     "name": "stderr",
     "output_type": "stream",
     "text": [
      "/home/wustl/VideoClassifier/.menv/lib/python3.8/site-packages/pytorch_lightning/trainer/trainer.py:1444: UserWarning: `.test(ckpt_path=None)` was called without a model. The best model of the previous `fit` call will be used. You can pass `test(ckpt_path='best')` to use and best model checkpoint and avoid this warning or `ckpt_path=trainer.checkpoint_callback.last_model_path` to use the last model.\n",
      "  rank_zero_warn(\n",
      "Restoring states from the checkpoint path at /home/wustl/bats_classification/ckpt_logs/epoch=14-step=2700.ckpt\n",
      "LOCAL_RANK: 0 - CUDA_VISIBLE_DEVICES: [0]\n",
      "Loaded model weights from checkpoint at /home/wustl/bats_classification/ckpt_logs/epoch=14-step=2700.ckpt\n"
     ]
    },
    {
     "name": "stdout",
     "output_type": "stream",
     "text": [
      "Testing DataLoader 0: 100%|██████████| 27/27 [00:00<00:00, 44.06it/s]\n",
      "────────────────────────────────────────────────────────────────────────────────────────────────────────────────────────\n",
      "       Test metric             DataLoader 0\n",
      "────────────────────────────────────────────────────────────────────────────────────────────────────────────────────────\n",
      "      test_accuracy         0.7888040542602539\n",
      "   test_cross_entropy       0.8000063300132751\n",
      "────────────────────────────────────────────────────────────────────────────────────────────────────────────────────────\n"
     ]
    },
    {
     "data": {
      "text/plain": [
       "[{'test_accuracy': 0.7888040542602539,\n",
       "  'test_cross_entropy': 0.8000063300132751}]"
      ]
     },
     "execution_count": 26,
     "metadata": {},
     "output_type": "execute_result"
    }
   ],
   "source": [
    "import torch\n",
    "datamodule = AudioClassificationData.from_data_frame(\n",
    "    input_field=\"new_filename\",\n",
    "    target_fields=\"new_species\",\n",
    "    train_data_frame = train,\n",
    "    val_data_frame = validation,\n",
    "    test_data_frame = test,\n",
    "    predict_data_frame = test,\n",
    "    transform_kwargs=dict(spectrogram_size=(128, 128)),\n",
    "    batch_size=tparams.batch_size,\n",
    "    num_workers=14  #int(os.cpu_count()),\n",
    ")\n",
    "ImageClassifier.heads = IMAGE_CLASSIFIER_HEADS\n",
    "model = ImageClassifier(\n",
    "    num_classes=number_classes, \n",
    "    backbone=tparams.backbone, \n",
    "    head=\"linear\",\n",
    "    labels=datamodule.labels,\n",
    "    pretrained=True,\n",
    "    #loss_fn=torch.nn.CrossEntropyLoss(loss_weights)\n",
    ")\n",
    "\n",
    "\n",
    "\n",
    "trainer = flash.Trainer(\n",
    "    max_epochs=tparams.epochs,\n",
    "    logger=[tb_logger,csv_logger],\n",
    "    log_every_n_steps=1,\n",
    "    gpus=torch.cuda.device_count(),\n",
    "    #move_metrics_to_cpu=True,\n",
    "    #auto_lr_find=True,\n",
    "    accumulate_grad_batches=2,\n",
    "    enable_progress_bar=True,\n",
    "    callbacks=[early_stop_callback,lr_monitor,ckpt_callback],\n",
    ")\n",
    "\n",
    "trainer.finetune(model, datamodule=datamodule, strategy=tparams.strategy)\n",
    "trainer.save_checkpoint(\"audio_classification_model.pt\")\n",
    "trainer.test(dataloaders=datamodule)"
   ]
  },
  {
   "cell_type": "code",
   "execution_count": null,
   "id": "975cc080",
   "metadata": {},
   "outputs": [],
   "source": [
    "## Use pytorch lighting to adjust \n",
    "for p in model.parameters()[:-2]:\n",
    "        p.requires_grad = False"
   ]
  },
  {
   "cell_type": "markdown",
   "id": "66fb6421",
   "metadata": {},
   "source": [
    "# 7. Predict and evaluate results\n",
    "## 7.1. Plot accuracy and loss\n",
    "- Plot the results of the training and validation run using the CSV-Logger"
   ]
  },
  {
   "cell_type": "code",
   "execution_count": null,
   "id": "f1d31963",
   "metadata": {},
   "outputs": [],
   "source": [
    "#trainer.tune(model=model)\n",
    "#trainer.fit(model=model)\n",
    "trainer.tune(model=model, datamodule=datamodule) #ohne \"=model\"?"
   ]
  },
  {
   "cell_type": "code",
   "execution_count": 27,
   "id": "f0975b6d",
   "metadata": {},
   "outputs": [
    {
     "name": "stdout",
     "output_type": "stream",
     "text": [
      "csv_logs/ds_y:ups_stripes_opac+25%:freeze:epo40:resnet50/version_3\n",
      "Index(['lr-Adam', 'step', 'train_accuracy_step', 'train_cross_entropy_step',\n",
      "       'epoch', 'val_accuracy', 'val_cross_entropy', 'train_accuracy_epoch',\n",
      "       'train_cross_entropy_epoch', 'test_accuracy', 'test_cross_entropy'],\n",
      "      dtype='object')\n"
     ]
    },
    {
     "data": {
      "image/png": "[encoded data removed]",
      "text/plain": [
       "<Figure size 864x576 with 1 Axes>"
      ]
     },
     "metadata": {
      "needs_background": "light"
     },
     "output_type": "display_data"
    },
    {
     "data": {
      "image/png": "[encoded data removed]",
      "text/plain": [
       "<Figure size 864x576 with 1 Axes>"
      ]
     },
     "metadata": {
      "needs_background": "light"
     },
     "output_type": "display_data"
    }
   ],
   "source": [
    "#get metrics from CSVLogger\n",
    "print(csv_logger.log_dir)\n",
    "metrics = pd.read_csv(f'{csv_logger.log_dir}/metrics.csv')\n",
    "print(metrics.columns)\n",
    "\n",
    "train_acc = metrics['train_accuracy_epoch'].dropna().reset_index(drop=True)\n",
    "valid_acc = metrics['val_accuracy'].dropna().reset_index(drop=True)\n",
    "train_loss = metrics['train_cross_entropy_epoch'].dropna().reset_index(drop=True)\n",
    "valid_loss = metrics['val_cross_entropy'].dropna().reset_index(drop=True)\n",
    "\n",
    "plot_model_acc(train_acc=train_acc, valid_acc=valid_acc, save_dir=csv_logger.log_dir)\n",
    "plot_model_loss(train_loss=train_loss, valid_loss=valid_loss, save_dir=csv_logger.log_dir)"
   ]
  },
  {
   "cell_type": "markdown",
   "id": "456c00d1",
   "metadata": {},
   "source": [
    "## 7.2. Predict test-data\n",
    "- generate predictions from test-data created in step 4.3."
   ]
  },
  {
   "cell_type": "code",
   "execution_count": 28,
   "id": "1c4a230a",
   "metadata": {
    "scrolled": true
   },
   "outputs": [
    {
     "name": "stderr",
     "output_type": "stream",
     "text": [
      "LOCAL_RANK: 0 - CUDA_VISIBLE_DEVICES: [0]\n"
     ]
    },
    {
     "name": "stdout",
     "output_type": "stream",
     "text": [
      "Predicting DataLoader 0: 100%|██████████| 27/27 [00:07<00:00, -41.69it/s]   \n"
     ]
    }
   ],
   "source": [
    "unique_classes = test['new_species'].unique() #create list of classes for confusion matrix\n",
    "labels = trainer.predict(model, datamodule=datamodule, output=\"labels\") #run predictions\n",
    "preds = [ll for label in labels for ll in label] #convert to vector\n",
    "target = test[\"new_species\"].to_list() #set targets for test prediction"
   ]
  },
  {
   "cell_type": "markdown",
   "id": "b6b35512",
   "metadata": {},
   "source": [
    "## 7.3. Confusion-Matrix\n",
    "- generate confusion-matrix from the predictions of the test-data"
   ]
  },
  {
   "cell_type": "code",
   "execution_count": 29,
   "id": "1c248633",
   "metadata": {},
   "outputs": [
    {
     "data": {
      "image/png": "[encoded data removed]",
      "text/plain": [
       "<Figure size 1440x720 with 4 Axes>"
      ]
     },
     "metadata": {
      "needs_background": "light"
     },
     "output_type": "display_data"
    },
    {
     "name": "stdout",
     "output_type": "stream",
     "text": [
      "Bartfledermaus         227\n",
      "Fransenfledermaus       90\n",
      "Langohrfledermaus       29\n",
      "Bechsteinfledermaus     28\n",
      "Mausohr                 12\n",
      "Wasserfledermaus         7\n",
      "Name: new_species, dtype: int64\n"
     ]
    },
    {
     "data": {
      "image/png": "[encoded data removed]",
      "text/plain": [
       "<Figure size 720x288 with 1 Axes>"
      ]
     },
     "metadata": {
      "needs_background": "light"
     },
     "output_type": "display_data"
    }
   ],
   "source": [
    "#create confusion marrix and plot\n",
    "cm = confusion_matrix(y_true=target, y_pred=preds, labels=unique_classes)\n",
    "plot_confusion_matrix(cm=cm, classes=unique_classes, save_dir=csv_logger.log_dir)\n",
    "\n",
    "#check\n",
    "#print values per class of test df to check ticklabels\n",
    "print(test[\"new_species\"].value_counts())\n",
    "plot_col(test, \"new_species\")"
   ]
  },
  {
   "cell_type": "code",
   "execution_count": null,
   "id": "e09481ab",
   "metadata": {},
   "outputs": [],
   "source": [
    "configure_optimizers()\n",
    "\n",
    "def configure_optimizers(self):\n",
    "    gen_opt = Adam(self.model_gen.parameters(), lr=0.01)\n",
    "    gen_sch = {\n",
    "        'scheduler': ExponentialLR(gen_opt, 0.99),\n",
    "        'interval': 'epoch'  # called after each training step\n",
    "    }\n",
    "    dis_sch = CosineAnnealing(dis_opt, T_max=10) # called every epoch\n",
    "    return [gen_opt], [gen_sch]"
   ]
  },
  {
   "cell_type": "code",
   "execution_count": null,
   "id": "a16b2efd",
   "metadata": {},
   "outputs": [],
   "source": [
    "import math\n",
    "\n",
    "start_lr = 0.0001\n",
    "exp_decay = 0.1\n",
    "\n",
    "def scheduler(epoch):\n",
    "    return start_lr * math.exp(-exp_decay*epoch)\n",
    "\n",
    "scheduler = tf.keras.callbacks.LearningRateScheduler(scheduler)"
   ]
  },
  {
   "cell_type": "code",
   "execution_count": null,
   "id": "18224f3a",
   "metadata": {},
   "outputs": [],
   "source": [
    "# Run learning rate finder\n",
    "lr_finder = trainer.tuner.lr_finder(model, datamodule=datamodule)\n",
    "\n",
    "# Results can be found in\n",
    "print(lr_finder)\n",
    "\n",
    "# Plot with\n",
    "fig = lr_finder.plot(suggest=True)\n",
    "fig.show()\n",
    "\n",
    "# Pick point based on plot, or get suggestion\n",
    "new_lr = lr_finder.suggestion()\n",
    "\n",
    "# update hparams of the model\n",
    "model.hparams.lr = new_lr\n",
    "\n",
    "# Fit model\n",
    "trainer.fit(model, datamodule=datamodule)"
   ]
  },
  {
   "cell_type": "markdown",
   "id": "0b3c2f01",
   "metadata": {},
   "source": [
    "# 8. Information cells"
   ]
  },
  {
   "cell_type": "code",
   "execution_count": null,
   "id": "0de05ec2",
   "metadata": {},
   "outputs": [],
   "source": [
    "av_backbones = ImageClassifier.available_backbones()\n",
    "print(av_backbones)\n",
    "\n",
    "av_heads = ImageClassifier.available_heads()\n",
    "print(av_heads)"
   ]
  },
  {
   "cell_type": "code",
   "execution_count": null,
   "id": "273e59f9",
   "metadata": {},
   "outputs": [],
   "source": [
    "%load_ext tensorboard"
   ]
  },
  {
   "cell_type": "code",
   "execution_count": null,
   "id": "be087779",
   "metadata": {},
   "outputs": [],
   "source": [
    "%reload_ext tensorboard"
   ]
  },
  {
   "cell_type": "code",
   "execution_count": null,
   "id": "44242027",
   "metadata": {},
   "outputs": [],
   "source": [
    "%pwd\n",
    "%cd /Users/eliaskirchberger/Documents/Master/StatL_Learning"
   ]
  },
  {
   "cell_type": "code",
   "execution_count": null,
   "id": "9ee03411",
   "metadata": {},
   "outputs": [],
   "source": [
    "%tensorboard --helpfull"
   ]
  },
  {
   "cell_type": "code",
   "execution_count": null,
   "id": "521d1c40",
   "metadata": {},
   "outputs": [],
   "source": [
    "%tensorboard --logdir tb_logs"
   ]
  },
  {
   "cell_type": "code",
   "execution_count": null,
   "id": "dc72eac9",
   "metadata": {},
   "outputs": [],
   "source": [
    "%lsmagic\n",
    "%whos"
   ]
  },
  {
   "cell_type": "code",
   "execution_count": null,
   "id": "74f0b88b",
   "metadata": {},
   "outputs": [],
   "source": [
    "help(AudioClassificationData)# --help\n",
    "#flash image_classification --help"
   ]
  },
  {
   "cell_type": "markdown",
   "id": "b765aa6b",
   "metadata": {},
   "source": [
    "# Unused"
   ]
  },
  {
   "cell_type": "code",
   "execution_count": null,
   "id": "de8cd0c7",
   "metadata": {},
   "outputs": [],
   "source": [
    "#https://learnopencv.com/tensorboard-with-pytorch-lightning/\n",
    "#https://www.pytorchlightning.ai/blog/tensorboard-with-pytorch-lightning\n",
    "%load ext tensorboard\n",
    "%tensorboard --logdir tb_logs/\n",
    "# logging using tensorboard logger\n",
    "#self.logger.experiment.add_scalar(\"Loss/Train\",avg_loss,self.current_epoch)"
   ]
  }
 ],
 "metadata": {
  "kernelspec": {
   "display_name": "Python 3.8.13 ('.menv': venv)",
   "language": "python",
   "name": "python3"
  },
  "language_info": {
   "codemirror_mode": {
    "name": "ipython",
    "version": 3
   },
   "file_extension": ".py",
   "mimetype": "text/x-python",
   "name": "python",
   "nbconvert_exporter": "python",
   "pygments_lexer": "ipython3",
   "version": "3.8.13"
  },
  "vscode": {
   "interpreter": {
    "hash": "964ad68cab2b5841dfdc4a6f95815a8cdd52cac6638be0b945b6a8b1b1e11aab"
   }
  }
 },
 "nbformat": 4,
 "nbformat_minor": 5
}
